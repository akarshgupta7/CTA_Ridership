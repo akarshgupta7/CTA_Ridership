{
  "nbformat": 4,
  "nbformat_minor": 0,
  "metadata": {
    "colab": {
      "name": "CTA - Ridership.ipynb",
      "provenance": [],
      "collapsed_sections": []
    },
    "kernelspec": {
      "name": "python3",
      "display_name": "Python 3"
    },
    "language_info": {
      "name": "python"
    },
    "accelerator": "GPU"
  },
  "cells": [
    {
      "cell_type": "markdown",
      "metadata": {
        "id": "T9An_Cpfsm97"
      },
      "source": [
        "# **Summary of Exploratory Data Analysis**\n",
        "\n",
        "\n",
        "*   There are five attributes that define the dataset: station_id, station name, date, daytype, rides. Daytypes are as follows: W=Weekday, A=Saturday, U=Sunday/Holiday.\n",
        "*   The number of data points from 2002 to 2016 (training set) is 779,648.\n",
        "*   The maximum number of rides in a single day is 36,323 at Belmont-North Main Station on June 28, 2015 (Pride parade was organized on this day in Chicago).\n",
        "*   An average CTA station gives about 3,310 rides every day with a standard deviation of 3,177.\n",
        "*   There is atleast one station that doesn't have any passengers on a day (min value of rides is 0). I suspect this is due to some error. It's hard to believe that there wouldn't be any passengers at a station on a given day in Chicago.\n",
        "*    The most popular stations are Clark/Lake (75,586,724), Lake/State (73,809,807), and Chicago/State (71,428,218).\n",
        "*    The least popular stations are Cermak-McCormick Place (842,622), Oakton-Skokie (1,182,961), and Kostner (1,831,883).\n",
        "*   The total number of passengers from 2002-2016 is highest during weekdays(W) and lowest on Sundays/Holidays(U) which is intuitive because people travel to work during weekdays. The number of passengers on Saturday(A) is a little more than that of on Sunday/Holiday(U); this could be because people party, run more errands on Saturday. The number of rides on weekdays is about 10 times the number of rides on Saturday or Sunday/Holiday. Similar trend is observed in the number of rides at each station.\n",
        "*   To further analyze this trend, I plotted number of passengers on Weekdays(W), Saturday(A), Holiday/Sunday(U) at Clark/Lake Station (most popular) and Cermak-McCormick Place Station (least popular) for the year 2016. There is a stark difference between the number of rides at these two stations (please check the plots in the notebook below). For Clark/Lake, typically there is a huge gap between the number of riders on weekdays vs the other days except for a few downward spikes which could be because of bad weather (Chicago has extreme winter) and people didn't go to work. The huge gap between weekdays and the other days is intuitive since people use the trains to go to work. For Cermak-McCormick Place, the gap between weekdays and other days is not large. This could be because this station is newly built or it's not located at a place where many businesses are set up in Chicago. \n",
        "*  The total number of rides typically increase every year for the most popular station and for all the stations combined. It decreases by a small number for some years. But the overall trend is increasing. \n",
        "\n",
        "*  An interesting observation for Cermak-McCormick Place station (least popular station), it is least popular because it started functioning in 2015. Initially I thought that maybe there are some stations that don't contribute much to the total number of rides and we could ignore them. For the year 2016, Clark/Lake station gave \\~6MM rides (\\~3% of the total rides) while Cermak-McCormick Place station gave \\~400K rides (\\~0.2% of the total rides). Although the percentage share of the rides by Cermak-McCormick Place station is one order magnitude lesser than the share of rides by Clarl/Lake station, it's not significantly lesser. So, it wouldn't be wise to ignore less popular stations.\n",
        "\n",
        "*  To establish the baseline performance of a model, I checked the change in the total number of rides for all stations from the year 2016 to 2017 daily, monthly, and yearly. The percentage change in total number of rides from 2016 to 2017 is 3.2%. Montly average percentage change (calculate change in the total numbe rof rides each month) in rides is 3.6%. But the avaerage daily change (change in total number of rides on January 1 and so on) is 31%. The reason behind this is that a particular day could be a weekday in 2016 but a weekend in 2017 and viceversa. We don't observe this phenomenon in monthly and yearly change because on an average there are same number of weekdays and weekends in a month and a year. Hence, the model should beat 31%.\n",
        "\n",
        "\n",
        "\n"
      ]
    },
    {
      "cell_type": "markdown",
      "metadata": {
        "id": "LWxkMZiOEqcD"
      },
      "source": [
        "# **Summary of Machine Learning Model**\n",
        "\n",
        "\n",
        "*   The metric used for this problem is average percentage error. Suppose there are n data points on which the model is evaluated, then average percentage error = $\\frac{1}{n}\\sum_{i=1}^{n}\\frac{|y_{pred}(i)-y(i)|}{y(i)} $ where $y_{pred}$ is the model prediction and $y$ is the true value. This metric is appropriate for the problem because it gives a measure of margin of how much the predicted value deviates from the true value.\n",
        "\n",
        "*   There are a few data points that have the label $y=0$. If we plug in this value in the formula for metric, the metric will blow up to infinity. To resolve this, I restricted the dataset to the points that have atleast 100 rides. The fraction of points in the training set with less than 100 rides is 1.63% and the fraction of points in the test set with less than 100 rides is 1.02%. So, I am removing a very small number of points to set up the model. The reasoning behind this is that such stations/days can get on an average 1 train every 30 minutes and they would be enough to supply the demand of 100 rides (I am assuming atleast 10 people enter a train at a station). \n",
        "\n",
        "*   The feature vectors are categorical. Linear regression wouldn't work for this problem as the features are not quantifiable. I would use tree based algorithms: Random Forest and XGBoost because tree based algorithms separate similar data points at the splitting node. These methods are appropriate because of the way I have encoded the dataset.\n",
        "\n",
        "*   Station name is dropped from the model because we already have station id to uniquely identify the station. So, the model has three features station id, date, daytype to predict the number of rides (label).\n",
        "\n",
        "*   Since common libraries like sklearn, xgboost require feature vectors to be numeric, it's necessary to encode the feature vectors: (a) Weekdays are replaced by 0, Saturdays are replaced by 1, and Holidays/Sunday are replaced by 2. (b) Dates are replaced by day of the year starting from Jan 1 of that particular year. For example, 02/03/2009 will be encoded by 34. This encoding of the date feature would help the model to detect dependence on the days around the date in the current year and on the same date in the previous years.\n",
        "\n",
        "*   The goal is to forecast daily rides for the year 2017 with the given data. So, I kept 20% of randomly shuffled data from the year 2016 as the dev set. The remaining data was used for training.\n",
        "\n",
        "*   It is my intuition that only 2-3 years of historical data will make any significant contribution to predictions. In other words, the data only from the year 2014-2016 should be able to predict the rides for the year 2017. This is based on the fact that the total number of rides typically increases every year. For example, the data from 2003 (distant history) will have no effect on predictions for 2017. To study this behaviour, I added data from 2015 to 2010 incrementally (Initially only 2015 data is added. In the next iteration 2014 data is added and so on) to the training data and assessed the model performance. I used default parameters for random forest regression. For XGBoost, I used learning rate = 0.2 (for faster convergence), number of estimators = 1000 (to decrease variance).\n",
        "\n",
        "* I found from the above analysis that including more historical data from previous years deteriorates the model performance. Random Forest model has low bias and high variance. XGBoost model has high bias and low variance. Training error (4.48%) and Dev error (9.7%) are lowest for the random forest model with historical data until 2015. So, I selected this model for further evaluations. Although the selected model has high variance, it could be further improved by tuning the hyperparameters.\n",
        "\n",
        "*  I used 3-fold cross validation to tune the hyperparameters of the random forest model. The mean percentage error of the best estimator is 9.38%. This is a very small improvement from the model with default parameters. I think an extensive search of hyperparameters is required to further improve the model. Unfortunately, I couldn't spend a lot of time on this. So, I went ahead with the best model found using grid search cross validation. The parameters are: max depth of tree = 120 , minimum samples in the leaf node = 1, minimum samples for splitting a node = 10, number of trees in random forest = 150.\n",
        "\n",
        "\n",
        "\n",
        "\n"
      ]
    },
    {
      "cell_type": "markdown",
      "metadata": {
        "id": "A7Ldkwb0lseX"
      },
      "source": [
        "# **Results on Test Set**\n",
        "The test set is the number of rides for each day of the year 2017 at each station.\n",
        "\n",
        "The average percentage error between the true values and the model prections for the number of rides in 2017 is **12.5%.**\n",
        "\n",
        "For planning the transport system, it's necessary to check the performance of the model on the top 80 percentile (this number could change depending on planning goals) stations and days. It's interesting to note that out of the total data points (52,172) in 2017, only 24,505 (\\~ 46.5%) contribute to 80% of the total rides. Hence, it's important to focus on these stations and days as they will have a significant impact on the train system. To find the mean percentage error for these data points, I sorted the data from the year 2017 in descending order of rides. The percentage error was found to be 9.43%. Note that this is very close to the mean percentage error of the best estimator found by 3-fold cross validation. This indicates that the training set and the top 80 percentile of the test set have similar distributions and the model is able to perform equally well on the top 80 percentile set.\n",
        "\n",
        "**Additional Remarks:**\n",
        "The error is still quite that is achieved by the model. I think a more extensive hyperparameter search and feature engineering would help to improve the model performance. I tried an approach to include more features in the training data like Rides in last 1 year, Rides in last 2 years, and Rides in last 3 years for the same station on the same day in previous years. This approach gave much poorer performance (Test error was more than 100%). I think the reason of its poor performance was that it's possible that some day is a weekday in the current year but could have been a Saturday/Holiday in previous years. This would give the model conflicting feature information about the current day and thus result in bad prediction.\n",
        "\n",
        "Unfortunately, I couldn't think of any other way to improve the model performance. \n",
        "\n",
        "\n",
        "\n"
      ]
    },
    {
      "cell_type": "markdown",
      "metadata": {
        "id": "28D1EUw-rFSd"
      },
      "source": [
        "# **Evaluation of the model to ensure it would be robust for production usage**\n",
        "\n",
        "\n",
        "*   Business Requirements:\n",
        "\n",
        "> 1.  Do we want to know the exact value on each day at each stations?\n",
        ">> It's important to know if we want to predict rides at each station on each day with high accuracy. If this is the case, then this model needs a lot of improvement. I think to plan the city transport system extensively, it's necessary to know the frequency of passengers entering a station during the given hour of the day. This would help in determining peak hours and busy stations. The frequency of trains should increase during peak hours. In general, the busy stations should be given more importance.\n",
        "\n",
        "\n",
        "> 2.  Do we want to know the days where the rides are peaking?\n",
        ">> As we discussed in the last section that only 46.5% of dataset accounts for 80% of the rides. This means that there are specific days and stations where it's expected to have large number of passengers. Therefore, it's important to plan for these instances extensively. For example, on June 28, 2015, Pride Parade was organized in Chicago. To ensure passengers don't experience any rush/difficulties, we need to increase the frequency of trains around the location of the event and around the residential areas in Chicago. Similar strategy could be applied for other events like Elections Day, New Year's Eve, and a popular football game day. In such events, the frequency at lesser busy stations should decrease so that trains run on time.\n",
        "\n",
        "\n",
        "*  It's possible that model performance deteriorates over time. This could be due to change in population, sudden weather changes (snow storm, polar vortex), new major events that didn't take place in previous years, US Presidential Election Year (once in four years) etc. Therefore, continuous training and evaluation is required. A good startegy would be to retrain every few weeks when there are no major changes in the timeframe from previous days/months/years and retrain every few days when there are some major events happening in Chicago.\n",
        "\n",
        "*  This notebook takes about 40 minutes to execute on Google Colab which runs on Intel(R) Xeon(R) CPU @ 2.20GHz with 12GB RAM. It takes about 25 minutes to perform cross validation with given grid parameters. This runtime will increase further when we perform cross validation on a larger grid. Runtime could be reduced by using multiple GPUs. The size of dataset is 36.8MB. So, we should have atleast 500MB of disk space as we create and manipulate several dataframe s in Pandas. I have saved the best random forest model learned through cross validation in this script. The size of this file is 249.3MB. If we retrain the model everyday, there could be some issues with storage due to large size of the model. So, the model must be stored according to the storage space available. For example, very old models can be discarded (a few months old if retraining every few weeks)."
      ]
    },
    {
      "cell_type": "code",
      "metadata": {
        "id": "PvfKjr6qoQi0",
        "colab": {
          "base_uri": "https://localhost:8080/",
          "height": 0
        },
        "outputId": "142b8c3e-090a-430c-e587-c9a116a6e3cc"
      },
      "source": [
        "# comment this out if not using google drive\n",
        "from google.colab import drive\n",
        "drive.mount('/content/drive')"
      ],
      "execution_count": 101,
      "outputs": [
        {
          "output_type": "stream",
          "text": [
            "Drive already mounted at /content/drive; to attempt to forcibly remount, call drive.mount(\"/content/drive\", force_remount=True).\n"
          ],
          "name": "stdout"
        }
      ]
    },
    {
      "cell_type": "code",
      "metadata": {
        "id": "CLLRsImuo75q",
        "colab": {
          "base_uri": "https://localhost:8080/",
          "height": 0
        },
        "outputId": "4e33a8f5-fcc0-413c-86b1-e7fa2fca8a68"
      },
      "source": [
        "# change the file path here\n",
        "#!ls /content/drive/MyDrive\n",
        "%cd /content/drive/MyDrive/CTA _Ridership/Dataset"
      ],
      "execution_count": 107,
      "outputs": [
        {
          "output_type": "stream",
          "text": [
            "/content/drive/MyDrive/CTA _Ridership/Dataset\n"
          ],
          "name": "stdout"
        }
      ]
    },
    {
      "cell_type": "code",
      "metadata": {
        "id": "rty5f7yA1xaM"
      },
      "source": [
        "import pandas as pd\n",
        "import numpy as np\n",
        "import matplotlib.pyplot as plt\n",
        "from datetime import datetime as dt\n",
        "from sklearn.ensemble import RandomForestRegressor\n",
        "import xgboost as xgb\n",
        "import joblib\n",
        "from sklearn.metrics import make_scorer\n",
        "from sklearn.model_selection import GridSearchCV"
      ],
      "execution_count": 31,
      "outputs": []
    },
    {
      "cell_type": "code",
      "metadata": {
        "colab": {
          "base_uri": "https://localhost:8080/",
          "height": 203
        },
        "id": "Cvei01c0fasQ",
        "outputId": "2d5e6e31-aaa5-49b1-a265-dee29704fd37"
      },
      "source": [
        "# Load data\n",
        "# change next line according to the file name/path\n",
        "L_rides = pd.read_csv('CTA_-_Ridership_-__L__Station_Entries_-_Daily_Totals.csv',sep = ',')\n",
        "L_rides.head()"
      ],
      "execution_count": 108,
      "outputs": [
        {
          "output_type": "execute_result",
          "data": {
            "text/html": [
              "<div>\n",
              "<style scoped>\n",
              "    .dataframe tbody tr th:only-of-type {\n",
              "        vertical-align: middle;\n",
              "    }\n",
              "\n",
              "    .dataframe tbody tr th {\n",
              "        vertical-align: top;\n",
              "    }\n",
              "\n",
              "    .dataframe thead th {\n",
              "        text-align: right;\n",
              "    }\n",
              "</style>\n",
              "<table border=\"1\" class=\"dataframe\">\n",
              "  <thead>\n",
              "    <tr style=\"text-align: right;\">\n",
              "      <th></th>\n",
              "      <th>station_id</th>\n",
              "      <th>stationname</th>\n",
              "      <th>date</th>\n",
              "      <th>daytype</th>\n",
              "      <th>rides</th>\n",
              "    </tr>\n",
              "  </thead>\n",
              "  <tbody>\n",
              "    <tr>\n",
              "      <th>0</th>\n",
              "      <td>41280</td>\n",
              "      <td>Jefferson Park</td>\n",
              "      <td>12/22/2017</td>\n",
              "      <td>W</td>\n",
              "      <td>6104</td>\n",
              "    </tr>\n",
              "    <tr>\n",
              "      <th>1</th>\n",
              "      <td>41000</td>\n",
              "      <td>Cermak-Chinatown</td>\n",
              "      <td>12/18/2017</td>\n",
              "      <td>W</td>\n",
              "      <td>3636</td>\n",
              "    </tr>\n",
              "    <tr>\n",
              "      <th>2</th>\n",
              "      <td>40280</td>\n",
              "      <td>Central-Lake</td>\n",
              "      <td>12/02/2017</td>\n",
              "      <td>A</td>\n",
              "      <td>1270</td>\n",
              "    </tr>\n",
              "    <tr>\n",
              "      <th>3</th>\n",
              "      <td>40140</td>\n",
              "      <td>Dempster-Skokie</td>\n",
              "      <td>12/19/2017</td>\n",
              "      <td>W</td>\n",
              "      <td>1759</td>\n",
              "    </tr>\n",
              "    <tr>\n",
              "      <th>4</th>\n",
              "      <td>40690</td>\n",
              "      <td>Dempster</td>\n",
              "      <td>12/03/2017</td>\n",
              "      <td>U</td>\n",
              "      <td>499</td>\n",
              "    </tr>\n",
              "  </tbody>\n",
              "</table>\n",
              "</div>"
            ],
            "text/plain": [
              "   station_id       stationname        date daytype  rides\n",
              "0       41280    Jefferson Park  12/22/2017       W   6104\n",
              "1       41000  Cermak-Chinatown  12/18/2017       W   3636\n",
              "2       40280      Central-Lake  12/02/2017       A   1270\n",
              "3       40140   Dempster-Skokie  12/19/2017       W   1759\n",
              "4       40690          Dempster  12/03/2017       U    499"
            ]
          },
          "metadata": {
            "tags": []
          },
          "execution_count": 108
        }
      ]
    },
    {
      "cell_type": "code",
      "metadata": {
        "colab": {
          "base_uri": "https://localhost:8080/",
          "height": 203
        },
        "id": "mqwnQOA2f8-J",
        "outputId": "a8fb3abe-1d1c-42c0-a028-1bdf6a3ca071"
      },
      "source": [
        "# Change date column to proper date format (mm-dd-yyyy)\n",
        "L_rides['date'] = pd.to_datetime(L_rides['date'])\n",
        "L_rides.head()"
      ],
      "execution_count": 33,
      "outputs": [
        {
          "output_type": "execute_result",
          "data": {
            "text/html": [
              "<div>\n",
              "<style scoped>\n",
              "    .dataframe tbody tr th:only-of-type {\n",
              "        vertical-align: middle;\n",
              "    }\n",
              "\n",
              "    .dataframe tbody tr th {\n",
              "        vertical-align: top;\n",
              "    }\n",
              "\n",
              "    .dataframe thead th {\n",
              "        text-align: right;\n",
              "    }\n",
              "</style>\n",
              "<table border=\"1\" class=\"dataframe\">\n",
              "  <thead>\n",
              "    <tr style=\"text-align: right;\">\n",
              "      <th></th>\n",
              "      <th>station_id</th>\n",
              "      <th>stationname</th>\n",
              "      <th>date</th>\n",
              "      <th>daytype</th>\n",
              "      <th>rides</th>\n",
              "    </tr>\n",
              "  </thead>\n",
              "  <tbody>\n",
              "    <tr>\n",
              "      <th>0</th>\n",
              "      <td>41280</td>\n",
              "      <td>Jefferson Park</td>\n",
              "      <td>2017-12-22</td>\n",
              "      <td>W</td>\n",
              "      <td>6104</td>\n",
              "    </tr>\n",
              "    <tr>\n",
              "      <th>1</th>\n",
              "      <td>41000</td>\n",
              "      <td>Cermak-Chinatown</td>\n",
              "      <td>2017-12-18</td>\n",
              "      <td>W</td>\n",
              "      <td>3636</td>\n",
              "    </tr>\n",
              "    <tr>\n",
              "      <th>2</th>\n",
              "      <td>40280</td>\n",
              "      <td>Central-Lake</td>\n",
              "      <td>2017-12-02</td>\n",
              "      <td>A</td>\n",
              "      <td>1270</td>\n",
              "    </tr>\n",
              "    <tr>\n",
              "      <th>3</th>\n",
              "      <td>40140</td>\n",
              "      <td>Dempster-Skokie</td>\n",
              "      <td>2017-12-19</td>\n",
              "      <td>W</td>\n",
              "      <td>1759</td>\n",
              "    </tr>\n",
              "    <tr>\n",
              "      <th>4</th>\n",
              "      <td>40690</td>\n",
              "      <td>Dempster</td>\n",
              "      <td>2017-12-03</td>\n",
              "      <td>U</td>\n",
              "      <td>499</td>\n",
              "    </tr>\n",
              "  </tbody>\n",
              "</table>\n",
              "</div>"
            ],
            "text/plain": [
              "   station_id       stationname       date daytype  rides\n",
              "0       41280    Jefferson Park 2017-12-22       W   6104\n",
              "1       41000  Cermak-Chinatown 2017-12-18       W   3636\n",
              "2       40280      Central-Lake 2017-12-02       A   1270\n",
              "3       40140   Dempster-Skokie 2017-12-19       W   1759\n",
              "4       40690          Dempster 2017-12-03       U    499"
            ]
          },
          "metadata": {
            "tags": []
          },
          "execution_count": 33
        }
      ]
    },
    {
      "cell_type": "markdown",
      "metadata": {
        "id": "-_GquZKt3sob"
      },
      "source": [
        "Splitting the dataset such that training data is from Jan 1, 2002 to Dec 31, 2016 and test data is from Jan 1, 2017 to Dec 31, 2017 "
      ]
    },
    {
      "cell_type": "code",
      "metadata": {
        "id": "uKUYQrrP0EZI"
      },
      "source": [
        "# Divide the dataset into train and test\n",
        "L_rides_train = L_rides[(L_rides['date'] >= '01/01/2002') & (L_rides['date'] <= '12/31/2016')]\n",
        "L_rides_test = L_rides[(L_rides['date'] >= '01/01/2017') & (L_rides['date'] <= '12/31/2017')]"
      ],
      "execution_count": 34,
      "outputs": []
    },
    {
      "cell_type": "code",
      "metadata": {
        "colab": {
          "base_uri": "https://localhost:8080/",
          "height": 295
        },
        "id": "Tlr-jlGq1beS",
        "outputId": "3faac12a-9bc2-4cc6-e5b2-05b0d3d9aae1"
      },
      "source": [
        "L_rides_train.describe()"
      ],
      "execution_count": 35,
      "outputs": [
        {
          "output_type": "execute_result",
          "data": {
            "text/html": [
              "<div>\n",
              "<style scoped>\n",
              "    .dataframe tbody tr th:only-of-type {\n",
              "        vertical-align: middle;\n",
              "    }\n",
              "\n",
              "    .dataframe tbody tr th {\n",
              "        vertical-align: top;\n",
              "    }\n",
              "\n",
              "    .dataframe thead th {\n",
              "        text-align: right;\n",
              "    }\n",
              "</style>\n",
              "<table border=\"1\" class=\"dataframe\">\n",
              "  <thead>\n",
              "    <tr style=\"text-align: right;\">\n",
              "      <th></th>\n",
              "      <th>station_id</th>\n",
              "      <th>rides</th>\n",
              "    </tr>\n",
              "  </thead>\n",
              "  <tbody>\n",
              "    <tr>\n",
              "      <th>count</th>\n",
              "      <td>779648.000000</td>\n",
              "      <td>779648.000000</td>\n",
              "    </tr>\n",
              "    <tr>\n",
              "      <th>mean</th>\n",
              "      <td>40760.336524</td>\n",
              "      <td>3310.724129</td>\n",
              "    </tr>\n",
              "    <tr>\n",
              "      <th>std</th>\n",
              "      <td>445.024782</td>\n",
              "      <td>3177.348893</td>\n",
              "    </tr>\n",
              "    <tr>\n",
              "      <th>min</th>\n",
              "      <td>40010.000000</td>\n",
              "      <td>0.000000</td>\n",
              "    </tr>\n",
              "    <tr>\n",
              "      <th>25%</th>\n",
              "      <td>40370.000000</td>\n",
              "      <td>1128.000000</td>\n",
              "    </tr>\n",
              "    <tr>\n",
              "      <th>50%</th>\n",
              "      <td>40750.000000</td>\n",
              "      <td>2330.000000</td>\n",
              "    </tr>\n",
              "    <tr>\n",
              "      <th>75%</th>\n",
              "      <td>41150.000000</td>\n",
              "      <td>4358.000000</td>\n",
              "    </tr>\n",
              "    <tr>\n",
              "      <th>max</th>\n",
              "      <td>41690.000000</td>\n",
              "      <td>36323.000000</td>\n",
              "    </tr>\n",
              "  </tbody>\n",
              "</table>\n",
              "</div>"
            ],
            "text/plain": [
              "          station_id          rides\n",
              "count  779648.000000  779648.000000\n",
              "mean    40760.336524    3310.724129\n",
              "std       445.024782    3177.348893\n",
              "min     40010.000000       0.000000\n",
              "25%     40370.000000    1128.000000\n",
              "50%     40750.000000    2330.000000\n",
              "75%     41150.000000    4358.000000\n",
              "max     41690.000000   36323.000000"
            ]
          },
          "metadata": {
            "tags": []
          },
          "execution_count": 35
        }
      ]
    },
    {
      "cell_type": "markdown",
      "metadata": {
        "id": "MbR7Pq2m__nF"
      },
      "source": [
        "The above table tells some statistics about the training data. Count tells that there are a total of 779,648 data points. A few more interesting observations:\n",
        "\n",
        "1.   The maximum number of rides in a single day is 36,323 at station \n",
        "2.   An average CTA station gives about 3,310 rides every day.\n",
        "3. There is atleast one station that doesn't have any passengers on a day (min value of rides is 0).\n",
        "\n"
      ]
    },
    {
      "cell_type": "code",
      "metadata": {
        "colab": {
          "base_uri": "https://localhost:8080/",
          "height": 80
        },
        "id": "BP7CRUbWXxIT",
        "outputId": "8b3749b8-923d-4611-fdbc-9b084f804116"
      },
      "source": [
        "# Highest number of rides in a day\n",
        "L_rides_train[L_rides_train['rides']==36323]"
      ],
      "execution_count": 36,
      "outputs": [
        {
          "output_type": "execute_result",
          "data": {
            "text/html": [
              "<div>\n",
              "<style scoped>\n",
              "    .dataframe tbody tr th:only-of-type {\n",
              "        vertical-align: middle;\n",
              "    }\n",
              "\n",
              "    .dataframe tbody tr th {\n",
              "        vertical-align: top;\n",
              "    }\n",
              "\n",
              "    .dataframe thead th {\n",
              "        text-align: right;\n",
              "    }\n",
              "</style>\n",
              "<table border=\"1\" class=\"dataframe\">\n",
              "  <thead>\n",
              "    <tr style=\"text-align: right;\">\n",
              "      <th></th>\n",
              "      <th>station_id</th>\n",
              "      <th>stationname</th>\n",
              "      <th>date</th>\n",
              "      <th>daytype</th>\n",
              "      <th>rides</th>\n",
              "    </tr>\n",
              "  </thead>\n",
              "  <tbody>\n",
              "    <tr>\n",
              "      <th>812412</th>\n",
              "      <td>41320</td>\n",
              "      <td>Belmont-North Main</td>\n",
              "      <td>2015-06-28</td>\n",
              "      <td>U</td>\n",
              "      <td>36323</td>\n",
              "    </tr>\n",
              "  </tbody>\n",
              "</table>\n",
              "</div>"
            ],
            "text/plain": [
              "        station_id         stationname       date daytype  rides\n",
              "812412       41320  Belmont-North Main 2015-06-28       U  36323"
            ]
          },
          "metadata": {
            "tags": []
          },
          "execution_count": 36
        }
      ]
    },
    {
      "cell_type": "code",
      "metadata": {
        "colab": {
          "base_uri": "https://localhost:8080/",
          "height": 447
        },
        "id": "9jCMhvnwCGmj",
        "outputId": "d978c6b0-5567-4992-a55b-0cbbc71c1f00"
      },
      "source": [
        "# group datapoints with same stations together\n",
        "station_group = L_rides_train.groupby(['stationname'])\n",
        "station_totals = pd.DataFrame(station_group['rides'].sum())\n",
        "station_totals.sort_values(ascending=False,by='rides',inplace=True)\n",
        "station_totals\n",
        "#station_totals['rides'].sum()"
      ],
      "execution_count": 37,
      "outputs": [
        {
          "output_type": "execute_result",
          "data": {
            "text/html": [
              "<div>\n",
              "<style scoped>\n",
              "    .dataframe tbody tr th:only-of-type {\n",
              "        vertical-align: middle;\n",
              "    }\n",
              "\n",
              "    .dataframe tbody tr th {\n",
              "        vertical-align: top;\n",
              "    }\n",
              "\n",
              "    .dataframe thead th {\n",
              "        text-align: right;\n",
              "    }\n",
              "</style>\n",
              "<table border=\"1\" class=\"dataframe\">\n",
              "  <thead>\n",
              "    <tr style=\"text-align: right;\">\n",
              "      <th></th>\n",
              "      <th>rides</th>\n",
              "    </tr>\n",
              "    <tr>\n",
              "      <th>stationname</th>\n",
              "      <th></th>\n",
              "    </tr>\n",
              "  </thead>\n",
              "  <tbody>\n",
              "    <tr>\n",
              "      <th>Clark/Lake</th>\n",
              "      <td>75586724</td>\n",
              "    </tr>\n",
              "    <tr>\n",
              "      <th>Lake/State</th>\n",
              "      <td>73809994</td>\n",
              "    </tr>\n",
              "    <tr>\n",
              "      <th>Chicago/State</th>\n",
              "      <td>71428369</td>\n",
              "    </tr>\n",
              "    <tr>\n",
              "      <th>95th/Dan Ryan</th>\n",
              "      <td>58777913</td>\n",
              "    </tr>\n",
              "    <tr>\n",
              "      <th>Belmont-North Main</th>\n",
              "      <td>57756113</td>\n",
              "    </tr>\n",
              "    <tr>\n",
              "      <th>...</th>\n",
              "      <td>...</td>\n",
              "    </tr>\n",
              "    <tr>\n",
              "      <th>King Drive</th>\n",
              "      <td>3124208</td>\n",
              "    </tr>\n",
              "    <tr>\n",
              "      <th>Dempster-Skokie</th>\n",
              "      <td>2885112</td>\n",
              "    </tr>\n",
              "    <tr>\n",
              "      <th>Kostner</th>\n",
              "      <td>1836565</td>\n",
              "    </tr>\n",
              "    <tr>\n",
              "      <th>Oakton-Skokie</th>\n",
              "      <td>1184581</td>\n",
              "    </tr>\n",
              "    <tr>\n",
              "      <th>Cermak-McCormick Place</th>\n",
              "      <td>842812</td>\n",
              "    </tr>\n",
              "  </tbody>\n",
              "</table>\n",
              "<p>146 rows × 1 columns</p>\n",
              "</div>"
            ],
            "text/plain": [
              "                           rides\n",
              "stationname                     \n",
              "Clark/Lake              75586724\n",
              "Lake/State              73809994\n",
              "Chicago/State           71428369\n",
              "95th/Dan Ryan           58777913\n",
              "Belmont-North Main      57756113\n",
              "...                          ...\n",
              "King Drive               3124208\n",
              "Dempster-Skokie          2885112\n",
              "Kostner                  1836565\n",
              "Oakton-Skokie            1184581\n",
              "Cermak-McCormick Place    842812\n",
              "\n",
              "[146 rows x 1 columns]"
            ]
          },
          "metadata": {
            "tags": []
          },
          "execution_count": 37
        }
      ]
    },
    {
      "cell_type": "markdown",
      "metadata": {
        "id": "C0_DNfZhIFYF"
      },
      "source": [
        "**Following are the 5 most popular stations from 2002-2016:**"
      ]
    },
    {
      "cell_type": "code",
      "metadata": {
        "colab": {
          "base_uri": "https://localhost:8080/",
          "height": 234
        },
        "id": "ECRvxEunITns",
        "outputId": "5debac74-93a3-434a-9409-2c46cd5e0d7c"
      },
      "source": [
        "station_totals.head(5)"
      ],
      "execution_count": 38,
      "outputs": [
        {
          "output_type": "execute_result",
          "data": {
            "text/html": [
              "<div>\n",
              "<style scoped>\n",
              "    .dataframe tbody tr th:only-of-type {\n",
              "        vertical-align: middle;\n",
              "    }\n",
              "\n",
              "    .dataframe tbody tr th {\n",
              "        vertical-align: top;\n",
              "    }\n",
              "\n",
              "    .dataframe thead th {\n",
              "        text-align: right;\n",
              "    }\n",
              "</style>\n",
              "<table border=\"1\" class=\"dataframe\">\n",
              "  <thead>\n",
              "    <tr style=\"text-align: right;\">\n",
              "      <th></th>\n",
              "      <th>rides</th>\n",
              "    </tr>\n",
              "    <tr>\n",
              "      <th>stationname</th>\n",
              "      <th></th>\n",
              "    </tr>\n",
              "  </thead>\n",
              "  <tbody>\n",
              "    <tr>\n",
              "      <th>Clark/Lake</th>\n",
              "      <td>75586724</td>\n",
              "    </tr>\n",
              "    <tr>\n",
              "      <th>Lake/State</th>\n",
              "      <td>73809994</td>\n",
              "    </tr>\n",
              "    <tr>\n",
              "      <th>Chicago/State</th>\n",
              "      <td>71428369</td>\n",
              "    </tr>\n",
              "    <tr>\n",
              "      <th>95th/Dan Ryan</th>\n",
              "      <td>58777913</td>\n",
              "    </tr>\n",
              "    <tr>\n",
              "      <th>Belmont-North Main</th>\n",
              "      <td>57756113</td>\n",
              "    </tr>\n",
              "  </tbody>\n",
              "</table>\n",
              "</div>"
            ],
            "text/plain": [
              "                       rides\n",
              "stationname                 \n",
              "Clark/Lake          75586724\n",
              "Lake/State          73809994\n",
              "Chicago/State       71428369\n",
              "95th/Dan Ryan       58777913\n",
              "Belmont-North Main  57756113"
            ]
          },
          "metadata": {
            "tags": []
          },
          "execution_count": 38
        }
      ]
    },
    {
      "cell_type": "markdown",
      "metadata": {
        "id": "TGSnA5I-IsaC"
      },
      "source": [
        "**Following are the 5 least popular stations from 2002-2016:**"
      ]
    },
    {
      "cell_type": "code",
      "metadata": {
        "colab": {
          "base_uri": "https://localhost:8080/",
          "height": 234
        },
        "id": "J6k-6R_ZIdOC",
        "outputId": "b996faf4-ce18-4025-b0ca-6bfd64a71c5b"
      },
      "source": [
        "station_totals.tail(5)"
      ],
      "execution_count": 39,
      "outputs": [
        {
          "output_type": "execute_result",
          "data": {
            "text/html": [
              "<div>\n",
              "<style scoped>\n",
              "    .dataframe tbody tr th:only-of-type {\n",
              "        vertical-align: middle;\n",
              "    }\n",
              "\n",
              "    .dataframe tbody tr th {\n",
              "        vertical-align: top;\n",
              "    }\n",
              "\n",
              "    .dataframe thead th {\n",
              "        text-align: right;\n",
              "    }\n",
              "</style>\n",
              "<table border=\"1\" class=\"dataframe\">\n",
              "  <thead>\n",
              "    <tr style=\"text-align: right;\">\n",
              "      <th></th>\n",
              "      <th>rides</th>\n",
              "    </tr>\n",
              "    <tr>\n",
              "      <th>stationname</th>\n",
              "      <th></th>\n",
              "    </tr>\n",
              "  </thead>\n",
              "  <tbody>\n",
              "    <tr>\n",
              "      <th>King Drive</th>\n",
              "      <td>3124208</td>\n",
              "    </tr>\n",
              "    <tr>\n",
              "      <th>Dempster-Skokie</th>\n",
              "      <td>2885112</td>\n",
              "    </tr>\n",
              "    <tr>\n",
              "      <th>Kostner</th>\n",
              "      <td>1836565</td>\n",
              "    </tr>\n",
              "    <tr>\n",
              "      <th>Oakton-Skokie</th>\n",
              "      <td>1184581</td>\n",
              "    </tr>\n",
              "    <tr>\n",
              "      <th>Cermak-McCormick Place</th>\n",
              "      <td>842812</td>\n",
              "    </tr>\n",
              "  </tbody>\n",
              "</table>\n",
              "</div>"
            ],
            "text/plain": [
              "                          rides\n",
              "stationname                    \n",
              "King Drive              3124208\n",
              "Dempster-Skokie         2885112\n",
              "Kostner                 1836565\n",
              "Oakton-Skokie           1184581\n",
              "Cermak-McCormick Place   842812"
            ]
          },
          "metadata": {
            "tags": []
          },
          "execution_count": 39
        }
      ]
    },
    {
      "cell_type": "code",
      "metadata": {
        "colab": {
          "base_uri": "https://localhost:8080/",
          "height": 172
        },
        "id": "xIQPQ1AQIy1C",
        "outputId": "a80f50a4-fe99-4dab-f683-b0c8d4eb1ddf"
      },
      "source": [
        "# group data with daytype together\n",
        "day_group = L_rides_train.groupby(['daytype'])\n",
        "day_totals = pd.DataFrame(day_group['rides'].sum())\n",
        "day_totals"
      ],
      "execution_count": 40,
      "outputs": [
        {
          "output_type": "execute_result",
          "data": {
            "text/html": [
              "<div>\n",
              "<style scoped>\n",
              "    .dataframe tbody tr th:only-of-type {\n",
              "        vertical-align: middle;\n",
              "    }\n",
              "\n",
              "    .dataframe tbody tr th {\n",
              "        vertical-align: top;\n",
              "    }\n",
              "\n",
              "    .dataframe thead th {\n",
              "        text-align: right;\n",
              "    }\n",
              "</style>\n",
              "<table border=\"1\" class=\"dataframe\">\n",
              "  <thead>\n",
              "    <tr style=\"text-align: right;\">\n",
              "      <th></th>\n",
              "      <th>rides</th>\n",
              "    </tr>\n",
              "    <tr>\n",
              "      <th>daytype</th>\n",
              "      <th></th>\n",
              "    </tr>\n",
              "  </thead>\n",
              "  <tbody>\n",
              "    <tr>\n",
              "      <th>A</th>\n",
              "      <td>254238366</td>\n",
              "    </tr>\n",
              "    <tr>\n",
              "      <th>U</th>\n",
              "      <td>205913139</td>\n",
              "    </tr>\n",
              "    <tr>\n",
              "      <th>W</th>\n",
              "      <td>2121047941</td>\n",
              "    </tr>\n",
              "  </tbody>\n",
              "</table>\n",
              "</div>"
            ],
            "text/plain": [
              "              rides\n",
              "daytype            \n",
              "A         254238366\n",
              "U         205913139\n",
              "W        2121047941"
            ]
          },
          "metadata": {
            "tags": []
          },
          "execution_count": 40
        }
      ]
    },
    {
      "cell_type": "markdown",
      "metadata": {
        "id": "NIyOYANNKhEp"
      },
      "source": [
        "We observe from the above table that the number of passengers is highest during weekdays(W) and lowest on Sundays/Holidays(U) which is intuitive because people travel to work during weekdays. The number of passengers on Saturday(A) is a little more than that of on Sunday/Holiday(U); this could be because people party, run more errands on Saturday."
      ]
    },
    {
      "cell_type": "code",
      "metadata": {
        "colab": {
          "base_uri": "https://localhost:8080/",
          "height": 447
        },
        "id": "_g21kooGMU7c",
        "outputId": "e7ecbd83-6ba3-497c-dff3-ea092a78d24d"
      },
      "source": [
        "# group stations by daytype\n",
        "station_day_group = L_rides_train.groupby(['stationname','daytype'])\n",
        "station_day_totals = pd.DataFrame(station_day_group['rides'].sum())\n",
        "#station_day_totals.sort_values(ascending=False,by='daytype',inplace=True)\n",
        "station_day_totals"
      ],
      "execution_count": 41,
      "outputs": [
        {
          "output_type": "execute_result",
          "data": {
            "text/html": [
              "<div>\n",
              "<style scoped>\n",
              "    .dataframe tbody tr th:only-of-type {\n",
              "        vertical-align: middle;\n",
              "    }\n",
              "\n",
              "    .dataframe tbody tr th {\n",
              "        vertical-align: top;\n",
              "    }\n",
              "\n",
              "    .dataframe thead th {\n",
              "        text-align: right;\n",
              "    }\n",
              "</style>\n",
              "<table border=\"1\" class=\"dataframe\">\n",
              "  <thead>\n",
              "    <tr style=\"text-align: right;\">\n",
              "      <th></th>\n",
              "      <th></th>\n",
              "      <th>rides</th>\n",
              "    </tr>\n",
              "    <tr>\n",
              "      <th>stationname</th>\n",
              "      <th>daytype</th>\n",
              "      <th></th>\n",
              "    </tr>\n",
              "  </thead>\n",
              "  <tbody>\n",
              "    <tr>\n",
              "      <th rowspan=\"3\" valign=\"top\">18th</th>\n",
              "      <th>A</th>\n",
              "      <td>681718</td>\n",
              "    </tr>\n",
              "    <tr>\n",
              "      <th>U</th>\n",
              "      <td>549632</td>\n",
              "    </tr>\n",
              "    <tr>\n",
              "      <th>W</th>\n",
              "      <td>5694052</td>\n",
              "    </tr>\n",
              "    <tr>\n",
              "      <th rowspan=\"2\" valign=\"top\">35-Bronzeville-IIT</th>\n",
              "      <th>A</th>\n",
              "      <td>1072482</td>\n",
              "    </tr>\n",
              "    <tr>\n",
              "      <th>U</th>\n",
              "      <td>847546</td>\n",
              "    </tr>\n",
              "    <tr>\n",
              "      <th>...</th>\n",
              "      <th>...</th>\n",
              "      <td>...</td>\n",
              "    </tr>\n",
              "    <tr>\n",
              "      <th rowspan=\"2\" valign=\"top\">Western/Milwaukee</th>\n",
              "      <th>U</th>\n",
              "      <td>1463152</td>\n",
              "    </tr>\n",
              "    <tr>\n",
              "      <th>W</th>\n",
              "      <td>16822088</td>\n",
              "    </tr>\n",
              "    <tr>\n",
              "      <th rowspan=\"3\" valign=\"top\">Wilson</th>\n",
              "      <th>A</th>\n",
              "      <td>2974991</td>\n",
              "    </tr>\n",
              "    <tr>\n",
              "      <th>U</th>\n",
              "      <td>2256659</td>\n",
              "    </tr>\n",
              "    <tr>\n",
              "      <th>W</th>\n",
              "      <td>21798623</td>\n",
              "    </tr>\n",
              "  </tbody>\n",
              "</table>\n",
              "<p>438 rows × 1 columns</p>\n",
              "</div>"
            ],
            "text/plain": [
              "                               rides\n",
              "stationname        daytype          \n",
              "18th               A          681718\n",
              "                   U          549632\n",
              "                   W         5694052\n",
              "35-Bronzeville-IIT A         1072482\n",
              "                   U          847546\n",
              "...                              ...\n",
              "Western/Milwaukee  U         1463152\n",
              "                   W        16822088\n",
              "Wilson             A         2974991\n",
              "                   U         2256659\n",
              "                   W        21798623\n",
              "\n",
              "[438 rows x 1 columns]"
            ]
          },
          "metadata": {
            "tags": []
          },
          "execution_count": 41
        }
      ]
    },
    {
      "cell_type": "code",
      "metadata": {
        "colab": {
          "base_uri": "https://localhost:8080/",
          "height": 810
        },
        "id": "TVyMgxClSAiz",
        "outputId": "17403ed5-9a54-408b-df18-fd5c63dabe13"
      },
      "source": [
        "# plot number of rides with different daytypes for different stations\n",
        "station_day_totals.head(18).plot(kind='bar')\n",
        "station_day_totals.tail(18).plot(kind='bar')"
      ],
      "execution_count": 42,
      "outputs": [
        {
          "output_type": "execute_result",
          "data": {
            "text/plain": [
              "<matplotlib.axes._subplots.AxesSubplot at 0x7f95172232d0>"
            ]
          },
          "metadata": {
            "tags": []
          },
          "execution_count": 42
        },
        {
          "output_type": "display_data",
          "data": {
            "image/png": "[encoded data removed]",
            "text/plain": [
              "<Figure size 432x288 with 1 Axes>"
            ]
          },
          "metadata": {
            "tags": [],
            "needs_background": "light"
          }
        },
        {
          "output_type": "display_data",
          "data": {
            "image/png": "[encoded data removed]",
            "text/plain": [
              "<Figure size 432x288 with 1 Axes>"
            ]
          },
          "metadata": {
            "tags": [],
            "needs_background": "light"
          }
        }
      ]
    },
    {
      "cell_type": "markdown",
      "metadata": {
        "id": "feMbZMh-ar_D"
      },
      "source": [
        "The above two plots show that for a given station, the number of rides on weekdays is significantly higher than that on Staurday/Holiday. (I have plotted this only for the first 6 and the last six stations in the dataset for better visibility, the stationnames are arranged in alhabetical order).  "
      ]
    },
    {
      "cell_type": "code",
      "metadata": {
        "id": "GziYJp-cbern"
      },
      "source": [
        "# analyze the distribution of rides at the most and least popular stations\n",
        "Clark_lake_rides = L_rides_train[(L_rides_train['stationname'] == 'Clark/Lake') &\n",
        "                       (L_rides_train['date'] >= '01/01/2016') &\n",
        "                       (L_rides_train['date'] <= '12/31/2016')]\n",
        "Cermak_McCormick_rides = L_rides_train[(L_rides_train['stationname'] == 'Cermak-McCormick Place') &\n",
        "                       (L_rides_train['date'] >= '01/01/2016') &\n",
        "                       (L_rides_train['date'] <= '12/31/2016')]\n",
        "\n",
        "Clark_lake_rides_1 = Clark_lake_rides[(Clark_lake_rides['daytype']=='W')]\n",
        "Clark_lake_rides_1.sort_values(ascending=True,by='date',inplace=True)\n",
        "Clark_lake_rides_2 = Clark_lake_rides[(Clark_lake_rides['daytype']=='A')]\n",
        "Clark_lake_rides_2.sort_values(ascending=True,by='date',inplace=True)\n",
        "Clark_lake_rides_3 = Clark_lake_rides[(Clark_lake_rides['daytype']=='U')]\n",
        "Clark_lake_rides_3.sort_values(ascending=True,by='date',inplace=True)\n",
        "\n",
        "Cermak_McCormick_rides_1 = Cermak_McCormick_rides[(Cermak_McCormick_rides['daytype']=='W')]\n",
        "Cermak_McCormick_rides_1.sort_values(ascending=True,by='date',inplace=True)\n",
        "Cermak_McCormick_rides_2 = Cermak_McCormick_rides[(Cermak_McCormick_rides['daytype']=='A')]\n",
        "Cermak_McCormick_rides_2.sort_values(ascending=True,by='date',inplace=True)\n",
        "Cermak_McCormick_rides_3 = Cermak_McCormick_rides[(Cermak_McCormick_rides['daytype']=='U')]\n",
        "Cermak_McCormick_rides_3.sort_values(ascending=True,by='date',inplace=True)"
      ],
      "execution_count": null,
      "outputs": []
    },
    {
      "cell_type": "code",
      "metadata": {
        "colab": {
          "base_uri": "https://localhost:8080/",
          "height": 295
        },
        "id": "wVJEf5vH6WRT",
        "outputId": "da38500e-cbf8-46a2-c88c-52b1e3abf6b4"
      },
      "source": [
        "Cermak_McCormick_rides.describe()"
      ],
      "execution_count": 17,
      "outputs": [
        {
          "output_type": "execute_result",
          "data": {
            "text/html": [
              "<div>\n",
              "<style scoped>\n",
              "    .dataframe tbody tr th:only-of-type {\n",
              "        vertical-align: middle;\n",
              "    }\n",
              "\n",
              "    .dataframe tbody tr th {\n",
              "        vertical-align: top;\n",
              "    }\n",
              "\n",
              "    .dataframe thead th {\n",
              "        text-align: right;\n",
              "    }\n",
              "</style>\n",
              "<table border=\"1\" class=\"dataframe\">\n",
              "  <thead>\n",
              "    <tr style=\"text-align: right;\">\n",
              "      <th></th>\n",
              "      <th>station_id</th>\n",
              "      <th>rides</th>\n",
              "    </tr>\n",
              "  </thead>\n",
              "  <tbody>\n",
              "    <tr>\n",
              "      <th>count</th>\n",
              "      <td>366.0</td>\n",
              "      <td>366.000000</td>\n",
              "    </tr>\n",
              "    <tr>\n",
              "      <th>mean</th>\n",
              "      <td>41690.0</td>\n",
              "      <td>1235.035519</td>\n",
              "    </tr>\n",
              "    <tr>\n",
              "      <th>std</th>\n",
              "      <td>0.0</td>\n",
              "      <td>435.192102</td>\n",
              "    </tr>\n",
              "    <tr>\n",
              "      <th>min</th>\n",
              "      <td>41690.0</td>\n",
              "      <td>282.000000</td>\n",
              "    </tr>\n",
              "    <tr>\n",
              "      <th>25%</th>\n",
              "      <td>41690.0</td>\n",
              "      <td>1002.250000</td>\n",
              "    </tr>\n",
              "    <tr>\n",
              "      <th>50%</th>\n",
              "      <td>41690.0</td>\n",
              "      <td>1236.000000</td>\n",
              "    </tr>\n",
              "    <tr>\n",
              "      <th>75%</th>\n",
              "      <td>41690.0</td>\n",
              "      <td>1427.500000</td>\n",
              "    </tr>\n",
              "    <tr>\n",
              "      <th>max</th>\n",
              "      <td>41690.0</td>\n",
              "      <td>3940.000000</td>\n",
              "    </tr>\n",
              "  </tbody>\n",
              "</table>\n",
              "</div>"
            ],
            "text/plain": [
              "       station_id        rides\n",
              "count       366.0   366.000000\n",
              "mean      41690.0  1235.035519\n",
              "std           0.0   435.192102\n",
              "min       41690.0   282.000000\n",
              "25%       41690.0  1002.250000\n",
              "50%       41690.0  1236.000000\n",
              "75%       41690.0  1427.500000\n",
              "max       41690.0  3940.000000"
            ]
          },
          "metadata": {
            "tags": []
          },
          "execution_count": 17
        }
      ]
    },
    {
      "cell_type": "code",
      "metadata": {
        "colab": {
          "base_uri": "https://localhost:8080/",
          "height": 573
        },
        "id": "9TCm6o1YRz1g",
        "outputId": "05c6339b-d685-4657-a864-50461661dbb5"
      },
      "source": [
        "#plot the number of rides at the most popular and the least popular stations \n",
        "# for the year 2016 \n",
        "plot_lines = []\n",
        "for frame in [Clark_lake_rides_1, Clark_lake_rides_2, Clark_lake_rides_3]:\n",
        "    temp, = plt.plot(frame['date'], frame['rides'])\n",
        "    plot_lines.append(temp)\n",
        "\n",
        "legend1=plt.legend(plot_lines, [\"W\", \"A\", \"U\"], loc=1)\n",
        "plt.gca().add_artist(legend1)\n",
        "plt.xlabel('Date')\n",
        "plt.ylabel('Rides')\n",
        "plt.title('Number of rides at Clark/Lake station for the year 2016')\n",
        "plt.show()\n",
        "\n",
        "plot_lines = []\n",
        "for frame in [Cermak_McCormick_rides_1, Cermak_McCormick_rides_2, Cermak_McCormick_rides_3]:\n",
        "    temp, = plt.plot(frame['date'], frame['rides'])\n",
        "    plot_lines.append(temp)\n",
        "\n",
        "legend1=plt.legend(plot_lines, [\"W\", \"A\", \"U\"], loc=1)\n",
        "plt.gca().add_artist(legend1)\n",
        "plt.xlabel('Date')\n",
        "plt.ylabel('Rides')\n",
        "plt.title('Number of rides at Cermak-McCormick Place station for the year 2016')\n",
        "plt.show()"
      ],
      "execution_count": 45,
      "outputs": [
        {
          "output_type": "display_data",
          "data": {
            "image/png": "[encoded data removed]",
            "text/plain": [
              "<Figure size 432x288 with 1 Axes>"
            ]
          },
          "metadata": {
            "tags": [],
            "needs_background": "light"
          }
        },
        {
          "output_type": "display_data",
          "data": {
            "image/png": "[encoded data removed]",
            "text/plain": [
              "<Figure size 432x288 with 1 Axes>"
            ]
          },
          "metadata": {
            "tags": [],
            "needs_background": "light"
          }
        }
      ]
    },
    {
      "cell_type": "markdown",
      "metadata": {
        "id": "H5Mwo30JwWuP"
      },
      "source": [
        "The above two plots show the number of passengers on Weekdays(W), Saturday(A), Holiday/Sunday(U) at Clark/Lake Station (most popular) and Cermak-McCormick Place Station (least popular) for the year 2016. There is a stark difference between the number of rides at these two stations.\n",
        "\n",
        "For Clark/Lake, typically there is a huge gap between the number of riders on weekdays vs the other days except for a few downward spikes which could be because of bad weather (Chicago has extreme winter) and people didn't go to work. The huge gap between weekdays and the other days is intuitive since people use the trains to go to work.\n",
        "\n",
        "For Cermak-McCormick Place, the gap between weekdays and other days is not large. This could be because this station is newly built or it's not located at a place where many businesses are set up in Chicago.\n",
        "\n"
      ]
    },
    {
      "cell_type": "code",
      "metadata": {
        "colab": {
          "base_uri": "https://localhost:8080/",
          "height": 1113
        },
        "id": "9n_iYsLohoIX",
        "outputId": "5d4d68f4-a205-4664-ce1b-9e437d8a26bc"
      },
      "source": [
        "# analyze change in number of rides with years\n",
        "year = 2002\n",
        "passengers = []\n",
        "years = []\n",
        "while year < 2017:\n",
        "  df = L_rides_train[(L_rides_train['stationname'] == 'Clark/Lake') &\n",
        "                       (L_rides_train['date'] >= '01/01/'+str(year)) &\n",
        "                       (L_rides_train['date'] <= '12/31/'+str(year))]\n",
        "  passengers.append(df['rides'].sum())\n",
        "  years.append(year)\n",
        "  year += 1\n",
        "plt.plot(years,passengers)\n",
        "plt.xlabel('Year')\n",
        "plt.ylabel('Rides')\n",
        "plt.title('Number of rides at Clark/Lake')\n",
        "plt.show()\n",
        "\n",
        "year = 2002\n",
        "passengers = []\n",
        "years = []\n",
        "while year < 2017:\n",
        "  df = L_rides_train[(L_rides_train['stationname'] == 'Cermak-McCormick Place') &\n",
        "                       (L_rides_train['date'] >= '01/01/'+str(year)) &\n",
        "                       (L_rides_train['date'] <= '12/31/'+str(year))]\n",
        "  passengers.append(df['rides'].sum())\n",
        "  years.append(year)\n",
        "  year += 1\n",
        "plt.plot(years,passengers)\n",
        "plt.xlabel('Year')\n",
        "plt.ylabel('Rides')\n",
        "plt.title('Number of rides at Cermak-McCormick Place station') \n",
        "plt.show()\n",
        "\n",
        "year = 2002\n",
        "passengers = []\n",
        "years = []\n",
        "while year < 2017:\n",
        "  df = L_rides_train[(L_rides_train['date'] >= '01/01/'+str(year)) &\n",
        "                       (L_rides_train['date'] <= '12/31/'+str(year))]\n",
        "  passengers.append(df['rides'].sum())\n",
        "  years.append(year)\n",
        "  year += 1\n",
        "plt.plot(years,passengers)\n",
        "plt.xlabel('Year')\n",
        "plt.ylabel('Rides')\n",
        "plt.title('Number of rides at all stations')\n",
        "plt.show()\n",
        "arr = []\n",
        "length = len(passengers)\n",
        "for i in range(1,length):\n",
        "  temp = (passengers[i]-passengers[i-1])/passengers[i-1]\n",
        "  arr.append(temp)\n",
        "plt.plot(years[1:],arr)\n",
        "plt.xlabel('Year')\n",
        "plt.ylabel('Percentage change in the number of Rides')\n",
        "#plt.title('Number of rides at Cermak-McCormick Place station') \n",
        "plt.show()"
      ],
      "execution_count": 46,
      "outputs": [
        {
          "output_type": "display_data",
          "data": {
            "image/png": "[encoded data removed]",
            "text/plain": [
              "<Figure size 432x288 with 1 Axes>"
            ]
          },
          "metadata": {
            "tags": [],
            "needs_background": "light"
          }
        },
        {
          "output_type": "display_data",
          "data": {
            "image/png": "[encoded data removed]",
            "text/plain": [
              "<Figure size 432x288 with 1 Axes>"
            ]
          },
          "metadata": {
            "tags": [],
            "needs_background": "light"
          }
        },
        {
          "output_type": "display_data",
          "data": {
            "image/png": "[encoded data removed]",
            "text/plain": [
              "<Figure size 432x288 with 1 Axes>"
            ]
          },
          "metadata": {
            "tags": [],
            "needs_background": "light"
          }
        },
        {
          "output_type": "display_data",
          "data": {
            "image/png": "[encoded data removed]",
            "text/plain": [
              "<Figure size 432x288 with 1 Axes>"
            ]
          },
          "metadata": {
            "tags": [],
            "needs_background": "light"
          }
        }
      ]
    },
    {
      "cell_type": "markdown",
      "metadata": {
        "id": "xMA9z-FbEacW"
      },
      "source": [
        "The number of rides typically increase every year for the most popular station and for all the stations combined. It decreases by a small number for some years. But the overall trend is increasing. \n",
        "\n",
        "One interesting observation is that for Cermak-McCormick Place station (least popular station), it is the least opular because it started functioning in 2015. That's why we have a horizontal line upto the year 2015. Initially I thought that maybe there are some stations that don't contribute much to the total number of rides and we could ignore them. But this tells us that the reason for them having small number of rides as compared to other stations is because they started functioning recently or were under maintenence. \n",
        "\n",
        "For the year 2016, Clark/Lake station gave \\~6MM rides (\\~3% of the total rides) while Cermak-McCormick Place station gave \\~400K rides (\\~0.2% of the total rides). Although the percentage share of the rides by Cermak-McCormick Place station is one order magnitude lesser than the share of rides by Clarl/Lake station, it's not significantly lesser. So, it wouldn't be wise to ignore less popular stations.\n",
        "\n",
        "The fourth plot shows that the total number of rides change by a maximum of 6% across years. This change is small."
      ]
    },
    {
      "cell_type": "code",
      "metadata": {
        "colab": {
          "base_uri": "https://localhost:8080/",
          "height": 0
        },
        "id": "IW_Hmtn-ax1X",
        "outputId": "95ff51eb-6e4a-48d9-c7f7-5378771dc5bc"
      },
      "source": [
        "# restricting the dataset to atleast 100 rides\n",
        "l1 = len(L_rides_train[L_rides_train['rides']<100])/779648\n",
        "print('Proportion of training data that has less than 100 rides:', l1)\n",
        "L_rides_train = L_rides_train[L_rides_train['rides'] >= 100]\n",
        "l2 = len(L_rides_test[L_rides_test['rides']<100])/52713\n",
        "print('Proportion of test data that has less than 100 rides:', l2)\n",
        "L_rides_test = L_rides_test[L_rides_test['rides'] >= 100]"
      ],
      "execution_count": 47,
      "outputs": [
        {
          "output_type": "stream",
          "text": [
            "Proportion of training data that has less than 100 rides: 0.016345838121819077\n",
            "Proportion of test data that has less than 100 rides: 0.01026312294879821\n"
          ],
          "name": "stdout"
        }
      ]
    },
    {
      "cell_type": "markdown",
      "metadata": {
        "id": "bAicKHsKFrbf"
      },
      "source": [
        "# **Setting up the Model**\n",
        "Since the feature vectors are categorical, linear regression wouldn't work. So, in my opinion, the best strategy would be to use tree based algorithms. \n",
        "\n",
        "Since common libraries like sklearn, xgboost require feature vectors to be numeric, it's necessary to encode the feature vectors:\n",
        "\n",
        "\n",
        "1.   Weekdays are replaced by 0, Saturdays are replaced by 1, and Holidays/Sunday are replaced by 2.\n",
        "2.   Dates are replaced by day of the year starting from Jan 1 of that particular year. For example, 02/03/2009 will be encoded by 34.\n",
        "3.   Station name feature is dropped since we already have station id for unique identification\n",
        "\n",
        "The reason to encode date as day of the year is because number of rides may have dependence for the same day across years. For example, Dec 25 2010(Christmas) may have dependence with Dec 25 2009, Dec 25 2008 and so on. This encoding will also make sure that the model recognizes pattern between rides on a few consecutive days.\n",
        "\n",
        "\n",
        "To find out which algorithm works well, I will use 20% of the data from 2016 as dev set while the remaining will be used for training."
      ]
    },
    {
      "cell_type": "code",
      "metadata": {
        "id": "ifPwh4TfbtrQ"
      },
      "source": [
        "#Numerically encode\n",
        "df_2016 = L_rides_train[(L_rides_train['date'] >= '01/01/2016') &\n",
        "                       (L_rides_train['date'] <= '12/31/2016')]\n",
        "df_2016 = df_2016.replace('W', 0)\n",
        "df_2016 = df_2016.replace('A', 1)\n",
        "df_2016 = df_2016.replace('U', 2)\n",
        "#replacing date with day of the year\n",
        "df_2016['date'] = df_2016['date'].dt.dayofyear \n",
        "#drop station name as we already have station id which uniquely tells the station\n",
        "df_2016 = df_2016.drop('stationname',axis=1) \n",
        "data_2016 = df_2016.to_numpy()\n",
        "shuffle_perm = np.random.permutation(data_2016.shape[0])\n",
        "# randomly shuffle data\n",
        "data_2016 = data_2016[shuffle_perm]\n",
        "#take 80% of the data in 2016 as training data and the remaining as the dev set\n",
        "train_x_2016 = data_2016[:int(0.8 * data_2016.shape[0]), :-1]\n",
        "train_y_2016 = data_2016[:int(0.8 * data_2016.shape[0]), -1]\n",
        "dev_x = data_2016[int(0.8 * data_2016.shape[0]):,:-1]\n",
        "dev_y = data_2016[int(0.8 * data_2016.shape[0]):,-1]"
      ],
      "execution_count": 48,
      "outputs": []
    },
    {
      "cell_type": "markdown",
      "metadata": {
        "id": "My8b3N-AKD1u"
      },
      "source": [
        "### **Error analysis on training and dev set: Increasing training data by incrementally including past year's data**"
      ]
    },
    {
      "cell_type": "code",
      "metadata": {
        "id": "yUzuFBL7MfCD"
      },
      "source": [
        "year = 2015\n",
        "error_arr = []\n",
        "while year >= 2010:\n",
        "  df_1 = L_rides_train[(L_rides_train['date'] >= '01/01/'+str(year)) &\n",
        "                       (L_rides_train['date'] <= '12/31/2015')]\n",
        "  df_1 = df_1.replace('W', 0)\n",
        "  df_1 = df_1.replace('A', 1)\n",
        "  df_1 = df_1.replace('U', 2)\n",
        "  #replacing date with day of the year\n",
        "  df_1['date'] = df_1['date'].dt.dayofyear \n",
        "  #drop station name as we already have station id which uniquely tells the station\n",
        "  df_1 = df_1.drop('stationname',axis=1) \n",
        "  data_1 = df_1.to_numpy()\n",
        "  train_x_1 = data_1[:,:-1]\n",
        "  train_y_1 = data_1[:,-1]\n",
        "  train_x = np.vstack((train_x_1, train_x_2016)) # training set\n",
        "  train_y = np.concatenate((train_y_1, train_y_2016)) # dev set\n",
        "\n",
        "  temp = [year] # to store error\n",
        "\n",
        "  # Random Forest Regression\n",
        "  regr = RandomForestRegressor()\n",
        "  regr.fit(train_x, train_y)\n",
        "  pred_y_dev_rf = regr.predict(dev_x)\n",
        "  pred_y_train_rf = regr.predict(train_x)\n",
        "  temp.append(np.mean(np.absolute((pred_y_train_rf-train_y))/train_y))\n",
        "  temp.append(np.mean(np.absolute((pred_y_dev_rf-dev_y)/dev_y)))\n",
        "\n",
        "  # XGBoost Regression\n",
        "  xg_reg = xgb.XGBRegressor(objective ='reg:squarederror', colsample_bytree = 1, learning_rate = 0.2,\n",
        "                 alpha = 10, n_estimators = 1000)\n",
        "  xg_reg.fit(train_x,train_y)\n",
        "  pred_y_dev_xg = xg_reg.predict(dev_x)\n",
        "  pred_y_train_xg = xg_reg.predict(train_x)\n",
        "  temp.append(np.mean(np.absolute((pred_y_train_xg-train_y))/train_y))\n",
        "  temp.append(np.mean(np.absolute((pred_y_dev_xg-dev_y)/dev_y)))\n",
        "\n",
        "  error_arr.append(temp) # errors for the included history\n",
        "  year -= 1\n",
        "# takes about 11 minutes to run this cell"
      ],
      "execution_count": 25,
      "outputs": []
    },
    {
      "cell_type": "code",
      "metadata": {
        "colab": {
          "base_uri": "https://localhost:8080/",
          "height": 234
        },
        "id": "uqE8DwqrO-zI",
        "outputId": "20a76b1a-61b5-45a1-f142-f4e18e83e091"
      },
      "source": [
        "df_error = pd.DataFrame(np.array(error_arr),\n",
        "           columns=['Historical Data until year', 'Random Forest: Training Error',\n",
        "           'Random Forest: Dev Error', 'XGBoost: Training Error', 'XGBoost: Dev Error'])\n",
        "df_error"
      ],
      "execution_count": 26,
      "outputs": [
        {
          "output_type": "execute_result",
          "data": {
            "text/html": [
              "<div>\n",
              "<style scoped>\n",
              "    .dataframe tbody tr th:only-of-type {\n",
              "        vertical-align: middle;\n",
              "    }\n",
              "\n",
              "    .dataframe tbody tr th {\n",
              "        vertical-align: top;\n",
              "    }\n",
              "\n",
              "    .dataframe thead th {\n",
              "        text-align: right;\n",
              "    }\n",
              "</style>\n",
              "<table border=\"1\" class=\"dataframe\">\n",
              "  <thead>\n",
              "    <tr style=\"text-align: right;\">\n",
              "      <th></th>\n",
              "      <th>Historical Data until year</th>\n",
              "      <th>Random Forest: Training Error</th>\n",
              "      <th>Random Forest: Dev Error</th>\n",
              "      <th>XGBoost: Training Error</th>\n",
              "      <th>XGBoost: Dev Error</th>\n",
              "    </tr>\n",
              "  </thead>\n",
              "  <tbody>\n",
              "    <tr>\n",
              "      <th>0</th>\n",
              "      <td>2015.0</td>\n",
              "      <td>0.044702</td>\n",
              "      <td>0.098903</td>\n",
              "      <td>0.158471</td>\n",
              "      <td>0.166561</td>\n",
              "    </tr>\n",
              "    <tr>\n",
              "      <th>1</th>\n",
              "      <td>2014.0</td>\n",
              "      <td>0.051636</td>\n",
              "      <td>0.111430</td>\n",
              "      <td>0.158389</td>\n",
              "      <td>0.170306</td>\n",
              "    </tr>\n",
              "    <tr>\n",
              "      <th>2</th>\n",
              "      <td>2013.0</td>\n",
              "      <td>0.064817</td>\n",
              "      <td>0.128808</td>\n",
              "      <td>0.170736</td>\n",
              "      <td>0.185571</td>\n",
              "    </tr>\n",
              "    <tr>\n",
              "      <th>3</th>\n",
              "      <td>2012.0</td>\n",
              "      <td>0.069640</td>\n",
              "      <td>0.122866</td>\n",
              "      <td>0.172253</td>\n",
              "      <td>0.183225</td>\n",
              "    </tr>\n",
              "    <tr>\n",
              "      <th>4</th>\n",
              "      <td>2011.0</td>\n",
              "      <td>0.072781</td>\n",
              "      <td>0.122805</td>\n",
              "      <td>0.171195</td>\n",
              "      <td>0.180038</td>\n",
              "    </tr>\n",
              "    <tr>\n",
              "      <th>5</th>\n",
              "      <td>2010.0</td>\n",
              "      <td>0.080885</td>\n",
              "      <td>0.126180</td>\n",
              "      <td>0.171306</td>\n",
              "      <td>0.177588</td>\n",
              "    </tr>\n",
              "  </tbody>\n",
              "</table>\n",
              "</div>"
            ],
            "text/plain": [
              "   Historical Data until year  ...  XGBoost: Dev Error\n",
              "0                      2015.0  ...            0.166561\n",
              "1                      2014.0  ...            0.170306\n",
              "2                      2013.0  ...            0.185571\n",
              "3                      2012.0  ...            0.183225\n",
              "4                      2011.0  ...            0.180038\n",
              "5                      2010.0  ...            0.177588\n",
              "\n",
              "[6 rows x 5 columns]"
            ]
          },
          "metadata": {
            "tags": []
          },
          "execution_count": 26
        }
      ]
    },
    {
      "cell_type": "markdown",
      "metadata": {
        "id": "01lsGrc-ZFm9"
      },
      "source": [
        "Observations:\n",
        "\n",
        "\n",
        "1.   Random Forest model has low bias and high variance.\n",
        "2.   XGBoost model has high bias and low variance.\n",
        "3.   Including more historical data increases training error and dev error for both the models.\n",
        "4.   Random Forest performs better\n",
        "\n",
        "It's best to include historical data only until the year 2015 since performance deteriorates if we add data from previous years. Looking at the error values, it's clear that Random Forest performs better than XGBoost.  "
      ]
    },
    {
      "cell_type": "code",
      "metadata": {
        "id": "EkzugddYfK_l"
      },
      "source": [
        "# create train and dev set based on the observations above\n",
        "df_1 = L_rides_train[(L_rides_train['date'] >= '01/01/2015') &\n",
        "                       (L_rides_train['date'] <= '12/31/2016')]\n",
        "df_1 = df_1.replace('W', 0)\n",
        "df_1 = df_1.replace('A', 1)\n",
        "df_1 = df_1.replace('U', 2)\n",
        "#replacing date with day of the year\n",
        "df_1['date'] = df_1['date'].dt.dayofyear \n",
        "#drop station name as we already have station id which uniquely tells the station\n",
        "df_1 = df_1.drop('stationname',axis=1) \n",
        "data_1 = df_1.to_numpy()\n",
        "train_x = data_1[:,:-1]\n",
        "train_y = data_1[:,-1]"
      ],
      "execution_count": 49,
      "outputs": []
    },
    {
      "cell_type": "markdown",
      "metadata": {
        "id": "H-SuLVBkSTBW"
      },
      "source": [
        "## **Cross Validation**"
      ]
    },
    {
      "cell_type": "code",
      "metadata": {
        "id": "vtWfH6kGSQ8b",
        "colab": {
          "base_uri": "https://localhost:8080/",
          "height": 0
        },
        "outputId": "9bb7bbbf-436b-449f-92c4-6a5c9c00ccd3"
      },
      "source": [
        "# Create the parameter grid\n",
        "param_grid = {\n",
        "    'bootstrap': [True],\n",
        "    'max_depth': [80,100,120],\n",
        "    #'max_features': 'auto',\n",
        "    'min_samples_leaf': [1,2,3],\n",
        "    'min_samples_split': [10,12],\n",
        "    'n_estimators': [100,150,200]\n",
        "}\n",
        "# Create a model\n",
        "rf = RandomForestRegressor()\n",
        "# scoring function\n",
        "def mean_percentage_error(y_true, y_pred):\n",
        "  return np.mean(np.absolute((y_pred-y_true)/y_true))\n",
        "\n",
        "# parameter to input in grid search CV\n",
        "my_scorer = make_scorer(mean_percentage_error, greater_is_better=False)\n",
        "# Instantiate the grid search model\n",
        "grid_search = GridSearchCV(estimator = rf, scoring = my_scorer,\n",
        "                           param_grid = param_grid, \n",
        "                          cv = 3, n_jobs = -1, verbose = 2)\n",
        "grid_search.fit(train_x, train_y)\n",
        "grid_search.best_params_\n",
        "# takes about 25 minutes to run"
      ],
      "execution_count": 51,
      "outputs": [
        {
          "output_type": "stream",
          "text": [
            "Fitting 3 folds for each of 54 candidates, totalling 162 fits\n"
          ],
          "name": "stdout"
        },
        {
          "output_type": "stream",
          "text": [
            "[Parallel(n_jobs=-1)]: Using backend LokyBackend with 2 concurrent workers.\n",
            "[Parallel(n_jobs=-1)]: Done  37 tasks      | elapsed:  5.9min\n",
            "[Parallel(n_jobs=-1)]: Done 158 tasks      | elapsed: 24.9min\n",
            "[Parallel(n_jobs=-1)]: Done 162 out of 162 | elapsed: 25.7min finished\n"
          ],
          "name": "stderr"
        },
        {
          "output_type": "execute_result",
          "data": {
            "text/plain": [
              "{'bootstrap': True,\n",
              " 'max_depth': 120,\n",
              " 'min_samples_leaf': 1,\n",
              " 'min_samples_split': 10,\n",
              " 'n_estimators': 150}"
            ]
          },
          "metadata": {
            "tags": []
          },
          "execution_count": 51
        }
      ]
    },
    {
      "cell_type": "code",
      "metadata": {
        "id": "kv6Yl_GETPg6",
        "colab": {
          "base_uri": "https://localhost:8080/",
          "height": 0
        },
        "outputId": "06fd22b6-802f-41c3-a7b1-1e8628d5f409"
      },
      "source": [
        "#choose the best estimator as the model\n",
        "best_score = -1*grid_search.best_score_ #multily by -1 because how it's defined\n",
        "print('Mean Cross Validation Percentage error of the best estimator:',best_score)"
      ],
      "execution_count": 53,
      "outputs": [
        {
          "output_type": "stream",
          "text": [
            "Mean Cross Validation Percentage error of the best estimator: 0.09384692768377335\n"
          ],
          "name": "stdout"
        }
      ]
    },
    {
      "cell_type": "code",
      "metadata": {
        "id": "z9qeRdHYfPRo"
      },
      "source": [
        "# best estimator found in grid search CV\n",
        "best_grid = grid_search.best_estimator_"
      ],
      "execution_count": 54,
      "outputs": []
    },
    {
      "cell_type": "code",
      "metadata": {
        "id": "4oKsMAVeo33l"
      },
      "source": [
        "# save \n",
        "joblib.dump(best_grid, \"model.joblib\")"
      ],
      "execution_count": 55,
      "outputs": []
    },
    {
      "cell_type": "code",
      "metadata": {
        "id": "YLCI2AIQsFy0"
      },
      "source": [
        "# load\n",
        "model_rf = joblib.load(\"model.joblib\")"
      ],
      "execution_count": 50,
      "outputs": []
    },
    {
      "cell_type": "markdown",
      "metadata": {
        "id": "6z4pd_g7ojEy"
      },
      "source": [
        "## **Test on the data for the year 2017**"
      ]
    },
    {
      "cell_type": "code",
      "metadata": {
        "id": "baj5nuSMNFfK",
        "colab": {
          "base_uri": "https://localhost:8080/",
          "height": 0
        },
        "outputId": "0c2ba782-f443-4715-f2ed-13a13a7b921e"
      },
      "source": [
        "#test\n",
        "df_test = L_rides_test\n",
        "df_test = df_test.replace('W', 0)\n",
        "df_test = df_test.replace('A', 1)\n",
        "df_test = df_test.replace('U', 2)\n",
        "#replacing date with day of the year\n",
        "df_test['date'] = df_test['date'].dt.dayofyear \n",
        "#drop station name as we already have station id which uniquely tells the station\n",
        "df_test = df_test.drop('stationname',axis=1)\n",
        "# considering data points only with atleast 100 rides \n",
        "df_test = df_test[df_test['rides']>=100] \n",
        "data_test = df_test.to_numpy()\n",
        "test_x = data_test[:,:-1]\n",
        "test_y = data_test[:,-1]\n",
        "pred_test_y =  model_rf.predict(test_x) # predict with trained model\n",
        "print('test error:', np.mean(np.absolute((pred_test_y-test_y))/test_y))"
      ],
      "execution_count": 51,
      "outputs": [
        {
          "output_type": "stream",
          "text": [
            "test error: 0.125030784739393\n"
          ],
          "name": "stdout"
        }
      ]
    },
    {
      "cell_type": "code",
      "metadata": {
        "id": "_MRct7uJPe5W",
        "colab": {
          "base_uri": "https://localhost:8080/",
          "height": 267
        },
        "outputId": "b1f086be-077a-42eb-ef00-714bbf7009d4"
      },
      "source": [
        "x = np.arange(test_y.shape[0])\n",
        "plt.plot(x[10400:10500],test_y[10400:10500])\n",
        "#plt.plot(x,pred_y)\n",
        "#plt.show()\n",
        "plt.plot(x[10400:10500],pred_test_y[10400:10500])\n",
        "plt.show()"
      ],
      "execution_count": 52,
      "outputs": [
        {
          "output_type": "display_data",
          "data": {
            "image/png": "[encoded data removed]",
            "text/plain": [
              "<Figure size 432x288 with 1 Axes>"
            ]
          },
          "metadata": {
            "tags": [],
            "needs_background": "light"
          }
        }
      ]
    },
    {
      "cell_type": "markdown",
      "metadata": {
        "id": "Ru4vT6-t7LOx"
      },
      "source": [
        "The orange line above is the predicted model and blue line is the true data for randomly selected 100 data points. We can see that the orange line overlaps the blue line at most of the data points. "
      ]
    },
    {
      "cell_type": "markdown",
      "metadata": {
        "id": "Gx8HDIOG-0ie"
      },
      "source": [
        "## **Checking error in the top 80 percentile of the total rides in 2017**"
      ]
    },
    {
      "cell_type": "code",
      "metadata": {
        "colab": {
          "base_uri": "https://localhost:8080/",
          "height": 0
        },
        "id": "7VcHHuM378kC",
        "outputId": "f4ab5c38-e51a-480c-869e-f984a3fe8837"
      },
      "source": [
        "sum_rides = df_test['rides'].sum() # total sum of rides\n",
        "df_test['rides_pred'] = pred_test_y.tolist()\n",
        "# sort the test data in descending order of daily rides\n",
        "df_test_sort = df_test.sort_values(ascending=False,by='rides')\n",
        "# create a numy array\n",
        "sort_arr = df_test_sort.to_numpy()\n",
        "top_sum = 0 # maintain the sum of rides in the loop\n",
        "err_perc = 0\n",
        "i = 0\n",
        "while True:\n",
        "  top_sum += sort_arr[i,-2]\n",
        "  err_perc += np.absolute(sort_arr[i,-1]-sort_arr[i,-2])/sort_arr[i,-2]\n",
        "  i += 1\n",
        "  if top_sum/sum_rides >= 0.8:\n",
        "    break\n",
        "  \n",
        "print('Total number of points in test set:', sort_arr.shape[0])\n",
        "print('Number of points that constitute 80% of the total rides:', i)\n",
        "print('Mean percentage error in top 80% rides:', err_perc/i)\n",
        "#sort_arr[i+1,-2]"
      ],
      "execution_count": 96,
      "outputs": [
        {
          "output_type": "stream",
          "text": [
            "Total number of points in test set: 52172\n",
            "Number of points that constitute 80% of the total rides: 24505\n",
            "Mean percentage error in top 80% rides: 0.09435781845384708\n"
          ],
          "name": "stdout"
        }
      ]
    },
    {
      "cell_type": "markdown",
      "metadata": {
        "id": "Xp0vk4rOX-Zh"
      },
      "source": [
        "## **Monthly Mean Percentage Error**"
      ]
    },
    {
      "cell_type": "code",
      "metadata": {
        "colab": {
          "base_uri": "https://localhost:8080/",
          "height": 418
        },
        "id": "s54L-m0Y99x5",
        "outputId": "baa3a7cf-3b6c-4950-c521-f59ec5c2f05c"
      },
      "source": [
        "# create an array for start date and end date for every month\n",
        "month_start = ['01/01/2017','02/01/2017', '03/01/2017', '04/01/2017',\n",
        "               '05/01/2017', '06/01/2017', '07/01/2017', '08/01/2017',\n",
        "               '09/01/2017', '10/01/2017', '11/01/2017', '12/01/2017']\n",
        "month_end = ['01/31/2017','02/28/2017', '03/31/2017', '04/30/2017',\n",
        "               '05/31/2017', '06/30/2017', '07/31/2017', '08/31/2017',\n",
        "               '09/30/2017', '10/31/2017', '11/30/2017', '12/31/2017']\n",
        "month = ['January', 'February', 'March', 'April', 'May', 'June',\n",
        "         'July', 'August', 'September', 'October','November', 'December']\n",
        "arr = [] # to store monthly mean error\n",
        "# considering data points only with atleast 100 rides \n",
        "df_temp = L_rides_test[L_rides_test['rides']>=100]\n",
        "df_temp['rides_pred'] = pred_test_y.tolist()\n",
        "for i in range(12):\n",
        "  # create dataframe for each month\n",
        "  df_temp2 = df_temp[(df_temp['date'] >= month_start[i]) &\n",
        "                       (df_temp['date'] <= month_end[i])]\n",
        "  month_data = df_temp2.to_numpy()\n",
        "  # calculate mean error for the month\n",
        "  err = np.mean(np.absolute(month_data[:,-1]-month_data[:,-2])/month_data[:,-2])\n",
        "  arr.append([month[i], err])\n",
        "\n",
        "arr = np.array(arr)\n",
        "df_monthly_error = pd.DataFrame(np.array(arr),\n",
        "                   columns=['Month', 'Mean percentage error'])\n",
        "df_monthly_error"
      ],
      "execution_count": 98,
      "outputs": [
        {
          "output_type": "execute_result",
          "data": {
            "text/html": [
              "<div>\n",
              "<style scoped>\n",
              "    .dataframe tbody tr th:only-of-type {\n",
              "        vertical-align: middle;\n",
              "    }\n",
              "\n",
              "    .dataframe tbody tr th {\n",
              "        vertical-align: top;\n",
              "    }\n",
              "\n",
              "    .dataframe thead th {\n",
              "        text-align: right;\n",
              "    }\n",
              "</style>\n",
              "<table border=\"1\" class=\"dataframe\">\n",
              "  <thead>\n",
              "    <tr style=\"text-align: right;\">\n",
              "      <th></th>\n",
              "      <th>Month</th>\n",
              "      <th>Mean percentage error</th>\n",
              "    </tr>\n",
              "  </thead>\n",
              "  <tbody>\n",
              "    <tr>\n",
              "      <th>0</th>\n",
              "      <td>January</td>\n",
              "      <td>0.13158016236060258</td>\n",
              "    </tr>\n",
              "    <tr>\n",
              "      <th>1</th>\n",
              "      <td>February</td>\n",
              "      <td>0.08999965018994432</td>\n",
              "    </tr>\n",
              "    <tr>\n",
              "      <th>2</th>\n",
              "      <td>March</td>\n",
              "      <td>0.11095336344537025</td>\n",
              "    </tr>\n",
              "    <tr>\n",
              "      <th>3</th>\n",
              "      <td>April</td>\n",
              "      <td>0.11010187854159138</td>\n",
              "    </tr>\n",
              "    <tr>\n",
              "      <th>4</th>\n",
              "      <td>May</td>\n",
              "      <td>0.10555043983965101</td>\n",
              "    </tr>\n",
              "    <tr>\n",
              "      <th>5</th>\n",
              "      <td>June</td>\n",
              "      <td>0.11180857706318517</td>\n",
              "    </tr>\n",
              "    <tr>\n",
              "      <th>6</th>\n",
              "      <td>July</td>\n",
              "      <td>0.13245677428393485</td>\n",
              "    </tr>\n",
              "    <tr>\n",
              "      <th>7</th>\n",
              "      <td>August</td>\n",
              "      <td>0.11343005018778742</td>\n",
              "    </tr>\n",
              "    <tr>\n",
              "      <th>8</th>\n",
              "      <td>September</td>\n",
              "      <td>0.12071020937874247</td>\n",
              "    </tr>\n",
              "    <tr>\n",
              "      <th>9</th>\n",
              "      <td>October</td>\n",
              "      <td>0.13664684566506632</td>\n",
              "    </tr>\n",
              "    <tr>\n",
              "      <th>10</th>\n",
              "      <td>November</td>\n",
              "      <td>0.1701324141309616</td>\n",
              "    </tr>\n",
              "    <tr>\n",
              "      <th>11</th>\n",
              "      <td>December</td>\n",
              "      <td>0.1640215487001211</td>\n",
              "    </tr>\n",
              "  </tbody>\n",
              "</table>\n",
              "</div>"
            ],
            "text/plain": [
              "        Month Mean percentage error\n",
              "0     January   0.13158016236060258\n",
              "1    February   0.08999965018994432\n",
              "2       March   0.11095336344537025\n",
              "3       April   0.11010187854159138\n",
              "4         May   0.10555043983965101\n",
              "5        June   0.11180857706318517\n",
              "6        July   0.13245677428393485\n",
              "7      August   0.11343005018778742\n",
              "8   September   0.12071020937874247\n",
              "9     October   0.13664684566506632\n",
              "10   November    0.1701324141309616\n",
              "11   December    0.1640215487001211"
            ]
          },
          "metadata": {
            "tags": []
          },
          "execution_count": 98
        }
      ]
    },
    {
      "cell_type": "code",
      "metadata": {
        "colab": {
          "base_uri": "https://localhost:8080/",
          "height": 0
        },
        "id": "0LScIhuRT8Jw",
        "outputId": "c71538de-d60a-4e26-8694-e0a7551444ca"
      },
      "source": [
        "ar = arr[:,1]\n",
        "ar = ar.astype(np.float)\n",
        "np.mean(ar)\n",
        "print('Mean of monthly mean percentage error:', np.mean(ar))\n",
        "print('Test error / Mean of daily percentage error:', np.mean(np.absolute((pred_test_y-test_y))/test_y))"
      ],
      "execution_count": 100,
      "outputs": [
        {
          "output_type": "stream",
          "text": [
            "Mean of monthly mean percentage error: 0.12478265948224654\n",
            "Test error / Mean of daily percentage error: 0.125030784739393\n"
          ],
          "name": "stdout"
        }
      ]
    }
  ]
}